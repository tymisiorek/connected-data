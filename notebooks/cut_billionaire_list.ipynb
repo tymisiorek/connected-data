{
 "cells": [
  {
   "cell_type": "code",
   "execution_count": 6,
   "metadata": {},
   "outputs": [],
   "source": [
    "import pandas as pd\n",
    "import os\n",
    "import json\n",
    "import numpy as np\n",
    "import matplotlib.pyplot as plt\n",
    "from nameparser import HumanName\n",
    "from itertools import combinations\n",
    "from collections import Counter, defaultdict\n",
    "from matplotlib.lines import Line2D\n",
    "from scipy.stats import zscore\n",
    "from rapidfuzz import process"
   ]
  },
  {
   "cell_type": "code",
   "execution_count": 7,
   "metadata": {},
   "outputs": [],
   "source": [
    "path_connected_data = \"C:\\\\Users\\\\tykun\\\\OneDrive\\\\Documents\\\\SchoolDocs\\\\VSCodeProjects\\\\connectedData\\\\dataframes\\\\\"\n",
    "path_temp_data = \"C:\\\\Users\\\\tykun\\\\OneDrive\\\\Documents\\\\SchoolDocs\\\\VSCodeProjects\\\\connectedData\\\\temporaryData\\\\\"\n",
    "year = \"2009\"\n",
    "valid_years = [\"1999\", \"2000\", \"2005\", \"2008\", \"2009\", \"2013\"]\n",
    "\n",
    "path_read = f\"{path_connected_data}{year}_split_positions.csv\"\n",
    "billionaires_path = f\"{path_connected_data}billionaires_1997_2024.csv\"\n",
    "cut_path = f\"{path_connected_data}billionaires_1997_2015.csv\""
   ]
  },
  {
   "cell_type": "code",
   "execution_count": 8,
   "metadata": {},
   "outputs": [
    {
     "name": "stderr",
     "output_type": "stream",
     "text": [
      "C:\\Users\\tykun\\AppData\\Local\\Temp\\ipykernel_25852\\29649912.py:1: DtypeWarning: Columns (17) have mixed types. Specify dtype option on import or set low_memory=False.\n",
      "  billionaires_df = pd.read_csv(billionaires_path)\n"
     ]
    }
   ],
   "source": [
    "billionaires_df = pd.read_csv(billionaires_path)\n",
    "cut_df = []\n",
    "for index, row in billionaires_df.iterrows():\n",
    "    if int(row[\"year\"]) < 2016:\n",
    "        cut_df.append(row)\n",
    "cut_df = pd.DataFrame(cut_df)"
   ]
  },
  {
   "cell_type": "code",
   "execution_count": 9,
   "metadata": {},
   "outputs": [],
   "source": [
    "cut_df.to_csv(cut_path, index = False)"
   ]
  }
 ],
 "metadata": {
  "kernelspec": {
   "display_name": "projectEnv",
   "language": "python",
   "name": "python3"
  },
  "language_info": {
   "codemirror_mode": {
    "name": "ipython",
    "version": 3
   },
   "file_extension": ".py",
   "mimetype": "text/x-python",
   "name": "python",
   "nbconvert_exporter": "python",
   "pygments_lexer": "ipython3",
   "version": "3.11.9"
  }
 },
 "nbformat": 4,
 "nbformat_minor": 2
}
