{
 "cells": [
  {
   "cell_type": "code",
   "execution_count": 42,
   "metadata": {},
   "outputs": [],
   "source": [
    "import pandas as pd\n",
    "import os\n",
    "import json\n",
    "import numpy as np\n",
    "import nltk\n",
    "from nltk.corpus import stopwords\n",
    "from collections import Counter\n",
    "import copy\n",
    "from nameparser import HumanName"
   ]
  },
  {
   "cell_type": "code",
   "execution_count": 43,
   "metadata": {},
   "outputs": [],
   "source": [
    "path_connected_data = \"C:\\\\Users\\\\tykun\\\\OneDrive\\\\Documents\\\\SchoolDocs\\\\VSCodeProjects\\\\connectedData\\\\\"\n",
    "path_temp_data = \"C:\\\\Users\\\\tykun\\\\OneDrive\\\\Documents\\\\SchoolDocs\\\\VSCodeProjects\\\\connectedData\\\\temporaryData\\\\\"\n",
    "year = \"2009\"\n",
    "full_path = f\"{path_connected_data}{year}_split_positions.csv\"\n",
    "board_path = f\"{path_temp_data}{year}_boards.csv\"\n",
    "president_path = f\"{path_temp_data}{year}_presidents.csv\"\n",
    "provost_path = f\"{path_temp_data}{year}_provost.csv\"\n",
    "vp_path = f\"{path_temp_data}{year}_vice_presidents.csv\"\n",
    "dean_path = f\"{path_temp_data}{year}_deans.csv\"\n",
    "state_system_path = f\"{path_temp_data}state_systems_validated.csv\"\n",
    "\n",
    "combined_admin_path = f\"{path_temp_data}{year}_combined_df.csv\""
   ]
  },
  {
   "cell_type": "code",
   "execution_count": 44,
   "metadata": {},
   "outputs": [],
   "source": [
    "full_df = pd.read_csv(full_path)\n",
    "board_df = pd.read_csv(board_path)\n",
    "president_df = pd.read_csv(president_path)\n",
    "provost_df = pd.read_csv(provost_path)\n",
    "vp_df = pd.read_csv(vp_path)\n",
    "dean_df = pd.read_csv(dean_path)\n",
    "\n",
    "combined_admin_df = pd.concat([board_df, president_df, provost_df, vp_df, dean_df], ignore_index=True)"
   ]
  },
  {
   "cell_type": "code",
   "execution_count": 45,
   "metadata": {},
   "outputs": [],
   "source": [
    "full_df[\"FixedPosition\"] = \"\"\n",
    "full_df = full_df.drop_duplicates()\n",
    "combined_admin_df = combined_admin_df.drop_duplicates()\n",
    "merged_df = pd.merge(full_df, combined_admin_df[['Name', 'Position', 'AffiliationId', 'SubInstitution', 'carnegie_id', 'PrimarySample', 'Education', 'Other Affiliation', 'Career', 'Notes', 'FixedPosition']], \n",
    "                     on=['Name', 'Position', 'AffiliationId', 'SubInstitution', 'carnegie_id', 'PrimarySample', 'Education', 'Other Affiliation', 'Career', 'Notes'], \n",
    "                     how='left', \n",
    "                     suffixes=('', '_from_admin'))\n",
    "full_df['FixedPosition'] = merged_df['FixedPosition_from_admin']\n",
    "# full_df.drop(columns=['FixedPosition_from_admin'], inplace=True)"
   ]
  },
  {
   "cell_type": "code",
   "execution_count": 46,
   "metadata": {},
   "outputs": [],
   "source": [
    "full_df.to_csv(combined_admin_path, index = False)"
   ]
  }
 ],
 "metadata": {
  "kernelspec": {
   "display_name": "projectEnv",
   "language": "python",
   "name": "python3"
  },
  "language_info": {
   "codemirror_mode": {
    "name": "ipython",
    "version": 3
   },
   "file_extension": ".py",
   "mimetype": "text/x-python",
   "name": "python",
   "nbconvert_exporter": "python",
   "pygments_lexer": "ipython3",
   "version": "3.11.9"
  }
 },
 "nbformat": 4,
 "nbformat_minor": 2
}
