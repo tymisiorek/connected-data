{
 "cells": [
  {
   "cell_type": "code",
   "execution_count": 51,
   "metadata": {},
   "outputs": [],
   "source": [
    "import pandas as pd\n",
    "import os\n",
    "import json\n",
    "import numpy as np\n",
    "import matplotlib.pyplot as plt\n",
    "from collections import Counter, defaultdict\n",
    "from matplotlib.lines import Line2D\n",
    "from collections import Counter"
   ]
  },
  {
   "cell_type": "code",
   "execution_count": 52,
   "metadata": {},
   "outputs": [],
   "source": [
    "path_connected_data = \"C:\\\\Users\\\\tykun\\\\OneDrive\\\\Documents\\\\SchoolDocs\\\\VSCodeProjects\\\\connectedData\\\\dataframes\\\\\"\n",
    "path_temp_data = \"C:\\\\Users\\\\tykun\\\\OneDrive\\\\Documents\\\\SchoolDocs\\\\VSCodeProjects\\\\connectedData\\\\temporaryData\\\\\"\n",
    "year = \"1999\"\n",
    "valid_years = [\"1999\", \"2000\", \"2005\", \"2008\", \"2009\", \"2013\"]\n",
    "\n",
    "path_read = f\"{path_connected_data}{year}_split_positions.csv\"\n",
    "boards_path = f\"{path_temp_data}{year}_boards.csv\"\n",
    "presidents_path = f\"{path_temp_data}{year}_presidents.csv\"\n",
    "region_path = f\"{path_temp_data}university_regions.csv\"\n",
    "sample_path = f\"{path_temp_data}university_sample.csv\"\n",
    "state_region_path = f\"{path_temp_data}state_regions.csv\"\n",
    "region_boards_path = f\"{path_temp_data}{year}_boards_region.csv\""
   ]
  },
  {
   "cell_type": "code",
   "execution_count": 53,
   "metadata": {},
   "outputs": [],
   "source": [
    "region_df = pd.read_csv(state_region_path)\n",
    "sample_df = pd.read_csv(sample_path)\n",
    "\n",
    "region_df = pd.read_csv(state_region_path)\n",
    "sample_df = pd.read_csv(sample_path)\n",
    "\n",
    "# Check if 'Region' exists in sample_df before dropping it\n",
    "if 'Region' in sample_df.columns:\n",
    "    sample_df = sample_df.drop(columns=[\"Region\"])\n",
    "\n",
    "# Perform the merge to add the \"Region\" column to sample_df\n",
    "sample_df = pd.merge(sample_df, region_df[['State', 'Region']], how='left', left_on='stabbr', right_on='State')\n",
    "\n",
    "# Check if 'State' column exists before dropping it\n",
    "if 'State' in sample_df.columns:\n",
    "    sample_df = sample_df.drop(columns=['State'])\n",
    "\n",
    "# Save the updated dataframe\n",
    "sample_df.to_csv(sample_path, index=False)"
   ]
  },
  {
   "cell_type": "code",
   "execution_count": 54,
   "metadata": {},
   "outputs": [],
   "source": [
    "# region_boards_df = pd.read_csv(region_boards_path)\n",
    "boards_df = pd.read_csv(boards_path)\n",
    "region_boards_df = pd.DataFrame()\n",
    "\n",
    "region_boards_df = pd.merge(boards_df, sample_df[['unitid', 'Region']], how='left', left_on='carnegie_id', right_on='unitid')\n",
    "\n",
    "# Drop the redundant 'unitid' column if not needed\n",
    "region_boards_df = region_boards_df.drop(columns=['unitid'])\n",
    "\n",
    "# Save the updated dataframe if needed\n",
    "region_boards_df.to_csv(region_boards_path, index=False)"
   ]
  }
 ],
 "metadata": {
  "kernelspec": {
   "display_name": "projectEnv",
   "language": "python",
   "name": "python3"
  },
  "language_info": {
   "codemirror_mode": {
    "name": "ipython",
    "version": 3
   },
   "file_extension": ".py",
   "mimetype": "text/x-python",
   "name": "python",
   "nbconvert_exporter": "python",
   "pygments_lexer": "ipython3",
   "version": "3.11.9"
  }
 },
 "nbformat": 4,
 "nbformat_minor": 2
}
